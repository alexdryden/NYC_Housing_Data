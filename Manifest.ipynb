{
 "cells": [
  {
   "cell_type": "markdown",
   "metadata": {
    "collapsed": true
   },
   "source": [
    "# Manifest"
   ]
  },
  {
   "cell_type": "markdown",
   "metadata": {
    "collapsed": true
   },
   "source": [
    "[dryden_alex_ODM_final]/  \n",
    "├── [data_documentation]/  \n",
    "│   ├──Property Valuation and Assessment data Tax Classes 2,3,4.ipynb    \n",
    "│   ├──HPD Fees.ipynb  \n",
    "│   ├──HPD Complaint Problems.ipynb  \n",
    "│   └── Local Law 7-2018 Qualified Transactions.ipynb  \n",
    "├── [intermediate_data]/    \n",
    "│   ├──[intermediate_csv]/  \n",
    "│      ├──DoFValuationClean.csv  \n",
    "│      ├──HDPComplaintProblemsClean.csv  \n",
    "│      ├──TransactionsClean.csv  \n",
    "│      ├──DHPFeesClean.csv    \n",
    "│   ├──[notebooks]/  \n",
    "│      ├──DoF_Valuation.ipynb  \n",
    "│      ├──HDP_Complaint_Problems.ipynb  \n",
    "│      ├──DoF_Transactions.ipynb  \n",
    "│      ├──DHPF_ees.ipynb  \n",
    "└── Manifest.md  \n",
    "└── Manifest_easy_links.ipynb  \n",
    "└── final_dataset.csv  \n",
    "└── Resume.pdf  \n",
    "└── summary_slide.pdf  \n",
    "└── Short_Assessment_Report.ipynb  \n",
    "\n",
    "\n",
    "\n",
    "\n",
    "\n",
    "\n"
   ]
  },
  {
   "cell_type": "markdown",
   "metadata": {},
   "source": [
    "## All final project deliverables\n",
    "\n",
    "This lists the directory paths for the final deliverables in the root directory dryden_alex_ODM_final:\n",
    "\n",
    "A manifest file:  \n",
    "/Manifest.md. \n",
    "\n",
    "A final single dataset file:  \n",
    "/final_dataset.csv  \n",
    "\n",
    "Intermediate datasets (from each of your different data sources):  \n",
    "/intermediate_data/intermediate_csv/\n",
    "\n",
    "Documentation for all datasets (with documentation guidelines in the documentation assignment):  \n",
    "/data_documentation/\n",
    "\n",
    "\n",
    "Commented and documented code for all data gathering you did using code.  Any hand created files should have detailed descriptions of their creation:\n",
    "None. Intermediate data processing files: /intermediate_data/notebooks\n",
    "\n",
    "\n",
    "A notebook (Jupyter or R Markdown) with code to reproducibly create your final data file from your intermediate data files:  \n",
    "/Reproducible_Notebook.ipynb\n",
    "\n",
    "\n",
    "A GitHub repo with everything (can be made private if needed) above:  \n",
    "https://github.com/alexdryden/NYC-Housing-Watchlist-Dataset.git\n",
    "\n",
    "If you have data that’s too big to be stored in github, you’ll need to have it hosted in a box folder or something.\n",
    "\n",
    "Your project’s entry for your resume:  \n",
    "/Resume.pdf\n",
    "\n",
    "A single summary slide of your project that can be used next semester as an example for other students:  \n",
    "/summary_slide.pdf\n",
    "\n",
    "A short assessment report:  \n",
    "/Short_Assessment_Report.ipynb"
   ]
  },
  {
   "cell_type": "code",
   "execution_count": null,
   "metadata": {
    "collapsed": true
   },
   "outputs": [],
   "source": []
  }
 ],
 "metadata": {
  "kernelspec": {
   "display_name": "Python 3",
   "language": "python",
   "name": "python3"
  },
  "language_info": {
   "codemirror_mode": {
    "name": "ipython",
    "version": 3
   },
   "file_extension": ".py",
   "mimetype": "text/x-python",
   "name": "python",
   "nbconvert_exporter": "python",
   "pygments_lexer": "ipython3",
   "version": "3.6.1"
  }
 },
 "nbformat": 4,
 "nbformat_minor": 2
}
