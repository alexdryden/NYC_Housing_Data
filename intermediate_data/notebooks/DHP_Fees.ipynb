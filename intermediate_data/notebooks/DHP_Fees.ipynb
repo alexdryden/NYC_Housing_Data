{
 "cells": [
  {
   "cell_type": "code",
   "execution_count": 1,
   "metadata": {
    "collapsed": true
   },
   "outputs": [],
   "source": [
    "import pandas as pd\n",
    "import numpy as np\n",
    "from scipy import stats"
   ]
  },
  {
   "cell_type": "code",
   "execution_count": 2,
   "metadata": {
    "collapsed": true
   },
   "outputs": [],
   "source": [
    "'''\n",
    "numpy is going to complain about not being able to determine a dtype\n",
    "when aggregating, but it can be safely ignored\n",
    "'''\n",
    "np.warnings.filterwarnings('ignore')"
   ]
  },
  {
   "cell_type": "code",
   "execution_count": 14,
   "metadata": {},
   "outputs": [],
   "source": [
    "loc = './Data_Mashups/completed/building_complaints_equipment_and_compliance/NYCHPD_feeCharges/Fee_Charges.csv'\n",
    "transactions_df = pd.read_csv(loc)"
   ]
  },
  {
   "cell_type": "code",
   "execution_count": 4,
   "metadata": {},
   "outputs": [],
   "source": [
    "\n",
    "#add leading zeros to the bloack and lot so they concat with boro into standard 10 digit\n",
    "transactions_df['Block'] = transactions_df['Block'].apply(lambda x: '{0:0>5}'.format(x))\n",
    "transactions_df['Lot'] = transactions_df['Lot'].apply(lambda x: '{0:0>4}'.format(x))\n",
    "\n",
    "#make BBL column\n",
    "transactions_df['BBL'] = transactions_df['BoroID'].map(str) + transactions_df['Block'].map(str) + transactions_df['Lot'].map(str)\n",
    "\n"
   ]
  },
  {
   "cell_type": "code",
   "execution_count": 5,
   "metadata": {},
   "outputs": [],
   "source": [
    "'''\n",
    "put the date in the correct format. Explicitly declaring the \n",
    "format will help catch data integrity problems.\n",
    "'''\n",
    "\n",
    "transactions_df['DoFTransferDate'] = pd.to_datetime(\n",
    "    transactions_df['DoFTransferDate'], format=\"%d/%m/%Y\")\n",
    "\n",
    "'''\n",
    "For this column, there were some problems. \n",
    "Manual inspection revealed that dates are in mixed format.\n",
    "Removed the explicit format and let pandas try to find the best match.\n",
    "'''\n",
    "transactions_df['FeeIssuedDate'] = pd.to_datetime(transactions_df['FeeIssuedDate'])"
   ]
  },
  {
   "cell_type": "code",
   "execution_count": 6,
   "metadata": {},
   "outputs": [],
   "source": [
    "#get total fees per bbl\n",
    "f1 = transactions_df.groupby('BBL').agg({'FeeAmount': np.sum})\n",
    "\n",
    "#convert to int\n",
    "f1['FeeAmount'] = f1['FeeAmount'].astype('int64')\n",
    "\n",
    "#name reflects data transformation\n",
    "f1.columns = ['TotalFeeAmount']\n",
    "\n",
    "#get number of fees per building\n",
    "f2 = transactions_df.groupby('BBL').size()\n",
    "\n",
    "#combine the two and start building the intermediate data object\n",
    "f1['NumberOfComplaints'] = f2\n"
   ]
  },
  {
   "cell_type": "code",
   "execution_count": 7,
   "metadata": {},
   "outputs": [],
   "source": [
    "'''\n",
    "Get the most common fee type for each building. Listed as a tuple of lists:\n",
    "format ([name],[count])\n",
    "'''\n",
    "\n",
    "f3 = transactions_df.groupby('BBL').agg({'FeeSourceType': stats.mode})\n",
    "\n",
    "#split the tuple into data friendlier for CSV\n",
    "\n",
    "f1['ModeFeeTypeName'] = f3\n",
    "f1['ModeFeeTypeCount'] = [i.count[0] for i in f1['ModeFeeTypeName']]\n",
    "f1['ModeFeeTypeName'] = [i.mode[0] for i in f1['ModeFeeTypeName']]"
   ]
  },
  {
   "cell_type": "code",
   "execution_count": 8,
   "metadata": {},
   "outputs": [],
   "source": [
    "#Get the lifecycle of the building. Similarly, format ([name],[count])\n",
    "\n",
    "f4 = transactions_df.groupby('BBL').agg({'LifeCycle': stats.mode})\n",
    "\n",
    "#split the tuple into data friendlier for CSV\n",
    "\n",
    "f1['ModeLifeCycleName'] = f4\n",
    "f1['ModeLifeCycleCount'] = [i.count[0] for i in f1['ModeLifeCycleName']]\n",
    "f1['ModeLifeCycleName'] = [i.mode[0] for i in f1['ModeLifeCycleName']]"
   ]
  },
  {
   "cell_type": "code",
   "execution_count": 9,
   "metadata": {},
   "outputs": [],
   "source": [
    "\n",
    "'''\n",
    "Numpy doesn't natively perform arithmetic on dates like most SQL based applications. So\n",
    "this little function converts the datetime objects in to 8 byte integers, gets their mean\n",
    "and then converts that back into a datetime object and returns it\n",
    "'''\n",
    "def date_mean(date):\n",
    "    return np.array(date, dtype='datetime64[s]').view('i8').mean().astype('datetime64[s]')\n",
    "    \n",
    "# get the average date of when the fee was charged\n",
    "f5 = transactions_df.groupby('BBL').agg({'FeeIssuedDate': date_mean})\n",
    "f1['MeanFeeIssueDate'] = f5"
   ]
  },
  {
   "cell_type": "code",
   "execution_count": 10,
   "metadata": {},
   "outputs": [
    {
     "data": {
      "text/html": [
       "<div>\n",
       "<style>\n",
       "    .dataframe thead tr:only-child th {\n",
       "        text-align: right;\n",
       "    }\n",
       "\n",
       "    .dataframe thead th {\n",
       "        text-align: left;\n",
       "    }\n",
       "\n",
       "    .dataframe tbody tr th {\n",
       "        vertical-align: top;\n",
       "    }\n",
       "</style>\n",
       "<table border=\"1\" class=\"dataframe\">\n",
       "  <thead>\n",
       "    <tr style=\"text-align: right;\">\n",
       "      <th></th>\n",
       "      <th>TotalFeeAmount</th>\n",
       "      <th>NumberOfComplaints</th>\n",
       "      <th>ModeFeeTypeName</th>\n",
       "      <th>ModeFeeTypeCount</th>\n",
       "      <th>ModeLifeCycleName</th>\n",
       "      <th>ModeLifeCycleCount</th>\n",
       "      <th>MeanFeeIssueDate</th>\n",
       "    </tr>\n",
       "    <tr>\n",
       "      <th>BBL</th>\n",
       "      <th></th>\n",
       "      <th></th>\n",
       "      <th></th>\n",
       "      <th></th>\n",
       "      <th></th>\n",
       "      <th></th>\n",
       "      <th></th>\n",
       "    </tr>\n",
       "  </thead>\n",
       "  <tbody>\n",
       "    <tr>\n",
       "      <th>1000530006</th>\n",
       "      <td>16900</td>\n",
       "      <td>7</td>\n",
       "      <td>PROJECT BLDG</td>\n",
       "      <td>2</td>\n",
       "      <td>Building</td>\n",
       "      <td>7</td>\n",
       "      <td>2018-03-05 10:17:08</td>\n",
       "    </tr>\n",
       "    <tr>\n",
       "      <th>1000787510</th>\n",
       "      <td>200</td>\n",
       "      <td>1</td>\n",
       "      <td>Complaint</td>\n",
       "      <td>1</td>\n",
       "      <td>Building</td>\n",
       "      <td>1</td>\n",
       "      <td>2018-07-30 00:00:00</td>\n",
       "    </tr>\n",
       "    <tr>\n",
       "      <th>1000920003</th>\n",
       "      <td>200</td>\n",
       "      <td>1</td>\n",
       "      <td>VIOLATION</td>\n",
       "      <td>1</td>\n",
       "      <td>Building</td>\n",
       "      <td>1</td>\n",
       "      <td>2016-11-28 00:00:00</td>\n",
       "    </tr>\n",
       "    <tr>\n",
       "      <th>1001400003</th>\n",
       "      <td>5200</td>\n",
       "      <td>26</td>\n",
       "      <td>VIOLATION</td>\n",
       "      <td>26</td>\n",
       "      <td>Building</td>\n",
       "      <td>26</td>\n",
       "      <td>2019-01-30 02:46:09</td>\n",
       "    </tr>\n",
       "    <tr>\n",
       "      <th>1001640013</th>\n",
       "      <td>400</td>\n",
       "      <td>2</td>\n",
       "      <td>Complaint</td>\n",
       "      <td>2</td>\n",
       "      <td>Building</td>\n",
       "      <td>2</td>\n",
       "      <td>2018-11-01 12:00:00</td>\n",
       "    </tr>\n",
       "  </tbody>\n",
       "</table>\n",
       "</div>"
      ],
      "text/plain": [
       "            TotalFeeAmount  NumberOfComplaints ModeFeeTypeName  \\\n",
       "BBL                                                              \n",
       "1000530006           16900                   7    PROJECT BLDG   \n",
       "1000787510             200                   1       Complaint   \n",
       "1000920003             200                   1       VIOLATION   \n",
       "1001400003            5200                  26       VIOLATION   \n",
       "1001640013             400                   2       Complaint   \n",
       "\n",
       "            ModeFeeTypeCount ModeLifeCycleName  ModeLifeCycleCount  \\\n",
       "BBL                                                                  \n",
       "1000530006                 2          Building                   7   \n",
       "1000787510                 1          Building                   1   \n",
       "1000920003                 1          Building                   1   \n",
       "1001400003                26          Building                  26   \n",
       "1001640013                 2          Building                   2   \n",
       "\n",
       "              MeanFeeIssueDate  \n",
       "BBL                             \n",
       "1000530006 2018-03-05 10:17:08  \n",
       "1000787510 2018-07-30 00:00:00  \n",
       "1000920003 2016-11-28 00:00:00  \n",
       "1001400003 2019-01-30 02:46:09  \n",
       "1001640013 2018-11-01 12:00:00  "
      ]
     },
     "execution_count": 10,
     "metadata": {},
     "output_type": "execute_result"
    }
   ],
   "source": [
    "f1.head()"
   ]
  },
  {
   "cell_type": "code",
   "execution_count": 16,
   "metadata": {},
   "outputs": [],
   "source": [
    "#save file\n",
    "f1.to_csv(r'./DHPFeesClean.csv', index='BBL', header=True)"
   ]
  },
  {
   "cell_type": "code",
   "execution_count": null,
   "metadata": {
    "collapsed": true
   },
   "outputs": [],
   "source": []
  }
 ],
 "metadata": {
  "kernelspec": {
   "display_name": "Python 3",
   "language": "python",
   "name": "python3"
  },
  "language_info": {
   "codemirror_mode": {
    "name": "ipython",
    "version": 3
   },
   "file_extension": ".py",
   "mimetype": "text/x-python",
   "name": "python",
   "nbconvert_exporter": "python",
   "pygments_lexer": "ipython3",
   "version": "3.6.1"
  }
 },
 "nbformat": 4,
 "nbformat_minor": 2
}
