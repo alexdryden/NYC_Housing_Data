{
 "cells": [
  {
   "cell_type": "code",
   "execution_count": 1,
   "metadata": {
    "collapsed": true
   },
   "outputs": [],
   "source": [
    "import pandas as pd\n",
    "import numpy as np\n",
    "from scipy import stats"
   ]
  },
  {
   "cell_type": "code",
   "execution_count": 2,
   "metadata": {
    "collapsed": true
   },
   "outputs": [],
   "source": [
    "'''\n",
    "numpy is going to complain about not being able to determine a dtype\n",
    "when aggregating, but it can be safely ignored\n",
    "'''\n",
    "np.warnings.filterwarnings('ignore')"
   ]
  },
  {
   "cell_type": "code",
   "execution_count": 3,
   "metadata": {
    "collapsed": true
   },
   "outputs": [],
   "source": [
    "loc = './dryden_alex_ODM_final/raw_data/HDP_Complaint_Problems/Complaint_Problems.csv'\n",
    "problems_df = pd.read_csv(loc)\n",
    "loc = './dryden_alex_ODM_final/raw_data/HDP_Complaints/Housing_Maintenance_Code_Complaints.csv'\n",
    "complaints_df = pd.read_csv(loc)"
   ]
  },
  {
   "cell_type": "markdown",
   "metadata": {},
   "source": [
    "Complaints and the Problems that issue fromt them are stored in two seperate datafiles. The foriegn key is a complaint id. So we will set the index on both and join them. "
   ]
  },
  {
   "cell_type": "code",
   "execution_count": 4,
   "metadata": {
    "collapsed": true
   },
   "outputs": [],
   "source": [
    "problems_df.set_index('ComplaintID', inplace=True)\n",
    "complaints_df.set_index('ComplaintID', inplace=True)\n",
    "\n"
   ]
  },
  {
   "cell_type": "code",
   "execution_count": 5,
   "metadata": {
    "collapsed": true
   },
   "outputs": [],
   "source": [
    "com_prob = complaints_df.join(other=problems_df, lsuffix='_complaint', rsuffix='_problem', how='left')"
   ]
  },
  {
   "cell_type": "code",
   "execution_count": 6,
   "metadata": {
    "collapsed": true
   },
   "outputs": [],
   "source": [
    "\n",
    "#add leading zeros to the bloack and lot so they concat with boro into standard 10 digit\n",
    "com_prob['Block'] = com_prob['Block'].apply(lambda x: '{0:0>5}'.format(x))\n",
    "com_prob['Lot'] = com_prob['Lot'].apply(lambda x: '{0:0>4}'.format(x))\n",
    "\n",
    "#make BBL column\n",
    "com_prob['BBL'] = com_prob['BoroughID'].map(str) + com_prob['Block'].map(str) + com_prob['Lot'].map(str)\n",
    "\n"
   ]
  },
  {
   "cell_type": "code",
   "execution_count": 7,
   "metadata": {
    "collapsed": true
   },
   "outputs": [],
   "source": [
    "'''\n",
    "put the date in the correct format. Explicitly declaring the \n",
    "format will help catch data integrity problems/confirm they were found\n",
    "in the initial cleaning.\n",
    "'''\n",
    "\n",
    "com_prob['ReceivedDate'] = pd.to_datetime(\n",
    "    com_prob['ReceivedDate'], format=\"%m/%d/%Y\")\n",
    "\n",
    "com_prob['StatusDate_problem'] = pd.to_datetime(\n",
    "    com_prob['StatusDate_problem'], format=\"%m/%d/%Y\")"
   ]
  },
  {
   "cell_type": "code",
   "execution_count": 8,
   "metadata": {
    "collapsed": true
   },
   "outputs": [],
   "source": [
    "f1 = com_prob.groupby('BBL').agg({})"
   ]
  },
  {
   "cell_type": "code",
   "execution_count": 9,
   "metadata": {
    "collapsed": true
   },
   "outputs": [],
   "source": [
    "'''\n",
    "Numpy doesn't natively perform arithmetic on dates like most SQL based applications. So\n",
    "this little function converts the datetime objects in to 8 byte integers, gets their mean\n",
    "and then converts that back into a datetime object and returns it\n",
    "'''\n",
    "def date_mean(date):\n",
    "    return np.array(date, dtype='datetime64[s]').view('i8').mean().astype('datetime64[s]')\n",
    "    \n",
    "# get the average date of when the fee was charged\n",
    "f1 = com_prob.groupby('BBL').agg({'ReceivedDate': date_mean})\n"
   ]
  },
  {
   "cell_type": "code",
   "execution_count": 10,
   "metadata": {
    "collapsed": true
   },
   "outputs": [],
   "source": [
    "f1.columns = ['MeanReceivedDate']"
   ]
  },
  {
   "cell_type": "code",
   "execution_count": 11,
   "metadata": {},
   "outputs": [
    {
     "data": {
      "text/plain": [
       "UnitType\n",
       "APARTMENT     2270142\n",
       "BUILDING          301\n",
       "BUILDING-W     567184\n",
       "PUBLIC ARE     204792\n",
       "PUBLIC PAR        171\n",
       "dtype: int64"
      ]
     },
     "execution_count": 11,
     "metadata": {},
     "output_type": "execute_result"
    }
   ],
   "source": [
    "'''\n",
    "these values were flagged during the initial cleaning, so lets check to see \n",
    "if they are different from what is listed in the source's data documentation\n",
    "'''\n",
    "\n",
    "\n",
    "see_values = com_prob.groupby('UnitType').size()\n",
    "see_values"
   ]
  },
  {
   "cell_type": "code",
   "execution_count": 12,
   "metadata": {
    "collapsed": true
   },
   "outputs": [],
   "source": [
    "\n",
    "#get the count of apt problems per building\n",
    "f2 = com_prob.loc[com_prob['UnitType'].isin(['APARTMENT'])].groupby('BBL').size()\n",
    "\n",
    "#get the non-apartment ones\n",
    "f3 = com_prob.loc[com_prob['UnitType'].isin([\n",
    "    'BUILDING', 'BUILDING-W','PUBLIC ARE','PUBLIC PAR'])].groupby('BBL').size()\n",
    "\n",
    "f4 = com_prob.groupby('BBL').size()\n",
    "\n",
    "f5 = com_prob.loc[com_prob['Type'].isin(['EMERGENCY'])].groupby('BBL').size()\n",
    "f6 = com_prob.loc[com_prob['Type'].isin(['HAZARDOUS'])].groupby('BBL').size()\n",
    "f7 = com_prob.loc[com_prob['Type'].isin(['IMMEDIATE EMERGENCY'])].groupby('BBL').size()\n",
    "f8 = com_prob.loc[com_prob['Type'].isin(['NON EMERGENCY'])].groupby('BBL').size()"
   ]
  },
  {
   "cell_type": "code",
   "execution_count": 13,
   "metadata": {
    "collapsed": true
   },
   "outputs": [],
   "source": [
    "f1['ApartmentComplaints'] = f2\n",
    "f1['BuildingComplaints'] = f3\n",
    "f1['EMERGENCY'] = f5\n",
    "f1['HAZARDOUS'] = f6\n",
    "f1['IMMEDIATE_EMERGENCY'] = f7\n",
    "f1['NON_EMERGENCY'] = f8\n",
    "f1['TotalComplaints'] = f4\n"
   ]
  },
  {
   "cell_type": "code",
   "execution_count": 14,
   "metadata": {
    "collapsed": true
   },
   "outputs": [],
   "source": [
    "f1.fillna(0, inplace=True)\n"
   ]
  },
  {
   "cell_type": "code",
   "execution_count": 15,
   "metadata": {
    "collapsed": true
   },
   "outputs": [],
   "source": [
    "#save file\n",
    "f1.to_csv(r'./dryden_alex_ODM_final/intermediate_data/intermediate_csv/HDPComplaintProblemsClean.csv', index='BBL', header=True)"
   ]
  },
  {
   "cell_type": "code",
   "execution_count": 16,
   "metadata": {},
   "outputs": [
    {
     "data": {
      "text/html": [
       "<div>\n",
       "<style>\n",
       "    .dataframe thead tr:only-child th {\n",
       "        text-align: right;\n",
       "    }\n",
       "\n",
       "    .dataframe thead th {\n",
       "        text-align: left;\n",
       "    }\n",
       "\n",
       "    .dataframe tbody tr th {\n",
       "        vertical-align: top;\n",
       "    }\n",
       "</style>\n",
       "<table border=\"1\" class=\"dataframe\">\n",
       "  <thead>\n",
       "    <tr style=\"text-align: right;\">\n",
       "      <th></th>\n",
       "      <th>MeanReceivedDate</th>\n",
       "      <th>ApartmentComplaints</th>\n",
       "      <th>BuildingComplaints</th>\n",
       "      <th>EMERGENCY</th>\n",
       "      <th>HAZARDOUS</th>\n",
       "      <th>IMMEDIATE_EMERGENCY</th>\n",
       "      <th>NON_EMERGENCY</th>\n",
       "      <th>TotalComplaints</th>\n",
       "    </tr>\n",
       "    <tr>\n",
       "      <th>BBL</th>\n",
       "      <th></th>\n",
       "      <th></th>\n",
       "      <th></th>\n",
       "      <th></th>\n",
       "      <th></th>\n",
       "      <th></th>\n",
       "      <th></th>\n",
       "      <th></th>\n",
       "    </tr>\n",
       "  </thead>\n",
       "  <tbody>\n",
       "    <tr>\n",
       "      <th>1000047501</th>\n",
       "      <td>2014-11-25 00:00:00</td>\n",
       "      <td>2.0</td>\n",
       "      <td>0.0</td>\n",
       "      <td>2.0</td>\n",
       "      <td>0.0</td>\n",
       "      <td>0.0</td>\n",
       "      <td>0.0</td>\n",
       "      <td>2</td>\n",
       "    </tr>\n",
       "    <tr>\n",
       "      <th>1000077501</th>\n",
       "      <td>2017-10-24 12:00:00</td>\n",
       "      <td>9.0</td>\n",
       "      <td>5.0</td>\n",
       "      <td>6.0</td>\n",
       "      <td>0.0</td>\n",
       "      <td>1.0</td>\n",
       "      <td>7.0</td>\n",
       "      <td>14</td>\n",
       "    </tr>\n",
       "    <tr>\n",
       "      <th>1000090014</th>\n",
       "      <td>2014-12-22 00:00:00</td>\n",
       "      <td>1.0</td>\n",
       "      <td>0.0</td>\n",
       "      <td>1.0</td>\n",
       "      <td>0.0</td>\n",
       "      <td>0.0</td>\n",
       "      <td>0.0</td>\n",
       "      <td>1</td>\n",
       "    </tr>\n",
       "    <tr>\n",
       "      <th>1000100014</th>\n",
       "      <td>2017-07-26 00:00:00</td>\n",
       "      <td>7.0</td>\n",
       "      <td>0.0</td>\n",
       "      <td>3.0</td>\n",
       "      <td>0.0</td>\n",
       "      <td>0.0</td>\n",
       "      <td>4.0</td>\n",
       "      <td>7</td>\n",
       "    </tr>\n",
       "    <tr>\n",
       "      <th>1000100032</th>\n",
       "      <td>2015-11-09 00:00:00</td>\n",
       "      <td>1.0</td>\n",
       "      <td>0.0</td>\n",
       "      <td>1.0</td>\n",
       "      <td>0.0</td>\n",
       "      <td>0.0</td>\n",
       "      <td>0.0</td>\n",
       "      <td>1</td>\n",
       "    </tr>\n",
       "  </tbody>\n",
       "</table>\n",
       "</div>"
      ],
      "text/plain": [
       "              MeanReceivedDate  ApartmentComplaints  BuildingComplaints  \\\n",
       "BBL                                                                       \n",
       "1000047501 2014-11-25 00:00:00                  2.0                 0.0   \n",
       "1000077501 2017-10-24 12:00:00                  9.0                 5.0   \n",
       "1000090014 2014-12-22 00:00:00                  1.0                 0.0   \n",
       "1000100014 2017-07-26 00:00:00                  7.0                 0.0   \n",
       "1000100032 2015-11-09 00:00:00                  1.0                 0.0   \n",
       "\n",
       "            EMERGENCY  HAZARDOUS  IMMEDIATE_EMERGENCY  NON_EMERGENCY  \\\n",
       "BBL                                                                    \n",
       "1000047501        2.0        0.0                  0.0            0.0   \n",
       "1000077501        6.0        0.0                  1.0            7.0   \n",
       "1000090014        1.0        0.0                  0.0            0.0   \n",
       "1000100014        3.0        0.0                  0.0            4.0   \n",
       "1000100032        1.0        0.0                  0.0            0.0   \n",
       "\n",
       "            TotalComplaints  \n",
       "BBL                          \n",
       "1000047501                2  \n",
       "1000077501               14  \n",
       "1000090014                1  \n",
       "1000100014                7  \n",
       "1000100032                1  "
      ]
     },
     "execution_count": 16,
     "metadata": {},
     "output_type": "execute_result"
    }
   ],
   "source": [
    "f1.head()"
   ]
  },
  {
   "cell_type": "code",
   "execution_count": null,
   "metadata": {
    "collapsed": true
   },
   "outputs": [],
   "source": []
  }
 ],
 "metadata": {
  "kernelspec": {
   "display_name": "Python 3",
   "language": "python",
   "name": "python3"
  },
  "language_info": {
   "codemirror_mode": {
    "name": "ipython",
    "version": 3
   },
   "file_extension": ".py",
   "mimetype": "text/x-python",
   "name": "python",
   "nbconvert_exporter": "python",
   "pygments_lexer": "ipython3",
   "version": "3.6.1"
  }
 },
 "nbformat": 4,
 "nbformat_minor": 2
}
