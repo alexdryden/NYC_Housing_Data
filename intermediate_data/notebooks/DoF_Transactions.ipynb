{
 "cells": [
  {
   "cell_type": "code",
   "execution_count": 2,
   "metadata": {
    "collapsed": true
   },
   "outputs": [],
   "source": [
    "import pandas as pd\n",
    "import numpy as np\n",
    "from scipy import stats"
   ]
  },
  {
   "cell_type": "code",
   "execution_count": 61,
   "metadata": {
    "collapsed": true
   },
   "outputs": [],
   "source": [
    "'''\n",
    "numpy is going to complain about not being able to determine a dtype\n",
    "when aggregating, but it can be safely ignored\n",
    "'''\n",
    "np.warnings.filterwarnings('ignore')"
   ]
  },
  {
   "cell_type": "code",
   "execution_count": 62,
   "metadata": {},
   "outputs": [],
   "source": [
    "loc = './dryden_alex_ODM_final/raw_data/Transactions/Local_Law_7-2018_Qualified_Transactions.csv'\n",
    "transactions_df = pd.read_csv(loc)"
   ]
  },
  {
   "cell_type": "code",
   "execution_count": 63,
   "metadata": {},
   "outputs": [],
   "source": [
    "\n",
    "#add leading zeros to the bloack and lot so they concat with boro into standard 10 digit\n",
    "transactions_df['block'] = transactions_df['block'].apply(lambda x: '{0:0>5}'.format(x))\n",
    "transactions_df['lot'] = transactions_df['lot'].apply(lambda x: '{0:0>4}'.format(x))\n",
    "\n",
    "#make BBL column\n",
    "transactions_df['BBL'] = transactions_df['boro'].map(str) + transactions_df['block'].map(str) + transactions_df['lot'].map(str)\n",
    "\n"
   ]
  },
  {
   "cell_type": "code",
   "execution_count": null,
   "metadata": {},
   "outputs": [],
   "source": []
  },
  {
   "cell_type": "code",
   "execution_count": 64,
   "metadata": {},
   "outputs": [],
   "source": [
    "'''\n",
    "put the date in the correct format. Explicitly declaring the \n",
    "format will help catch data integrity problems.\n",
    "'''\n",
    "\n",
    "transactions_df['deed_date'] = pd.to_datetime(\n",
    "    transactions_df['deed_date'], format=\"%m/%d/%Y\")\n",
    "\n"
   ]
  },
  {
   "cell_type": "code",
   "execution_count": 65,
   "metadata": {
    "collapsed": true
   },
   "outputs": [],
   "source": [
    "f1 = transactions_df[['BBL','price', 'cap_rate', 'borough_cap_rate', 'Latitude', 'Longitude', 'BIN', 'deed_date']]\n"
   ]
  },
  {
   "cell_type": "code",
   "execution_count": 66,
   "metadata": {},
   "outputs": [],
   "source": [
    "#set values as correct type\n",
    "f1['cap_rate'] = f1['cap_rate'].astype('float64')\n",
    "f1['price'] = f1['price'].astype('int64')\n",
    "f1['borough_cap_rate'] = f1['borough_cap_rate'].astype('float64')\n",
    "f1['Latitude'] = f1['Latitude'].astype('float64')\n",
    "f1['Longitude'] = f1['Longitude'].astype('float64')"
   ]
  },
  {
   "cell_type": "code",
   "execution_count": 67,
   "metadata": {},
   "outputs": [],
   "source": [
    "f1.set_index('BBL', inplace=True)"
   ]
  },
  {
   "cell_type": "code",
   "execution_count": 68,
   "metadata": {},
   "outputs": [],
   "source": [
    "f1['watchlist'] = f1['cap_rate']-f1['borough_cap_rate']\n",
    "f1['watchlist'] = f1['watchlist'].where(f1['watchlist']<0, True)\n",
    "f1['watchlist'] = f1['watchlist'].where(f1['watchlist']>0, False)\n"
   ]
  },
  {
   "cell_type": "code",
   "execution_count": 70,
   "metadata": {},
   "outputs": [],
   "source": [
    "'''\n",
    "Values passed ICV in manual cleaning, but there is still some data that needs to be removed. \n",
    "Cap rates should be around .01-.05 (i.e., the annual income from the property is 1-5% of the cost).\n",
    "Any values around that are fine. There should be some weird ones, but anything above, say, 1 is \n",
    "clearly a mistake. Invistigating one such value, it appears from the deed that a singel apartment was \n",
    "sold in a building--not the whole building. \n",
    "\n",
    "'''\n",
    "f1.drop(f1[f1.cap_rate > 1].index, inplace=True)"
   ]
  },
  {
   "cell_type": "code",
   "execution_count": 73,
   "metadata": {
    "collapsed": true
   },
   "outputs": [],
   "source": [
    "#save file\n",
    "f1.to_csv(r'./dryden_alex_ODM_final/intermediate_data/intermediate_csv/Transactions.csv', index='BBL', header=True)"
   ]
  },
  {
   "cell_type": "code",
   "execution_count": 72,
   "metadata": {},
   "outputs": [
    {
     "data": {
      "text/html": [
       "<div>\n",
       "<style>\n",
       "    .dataframe thead tr:only-child th {\n",
       "        text-align: right;\n",
       "    }\n",
       "\n",
       "    .dataframe thead th {\n",
       "        text-align: left;\n",
       "    }\n",
       "\n",
       "    .dataframe tbody tr th {\n",
       "        vertical-align: top;\n",
       "    }\n",
       "</style>\n",
       "<table border=\"1\" class=\"dataframe\">\n",
       "  <thead>\n",
       "    <tr style=\"text-align: right;\">\n",
       "      <th></th>\n",
       "      <th>price</th>\n",
       "      <th>cap_rate</th>\n",
       "      <th>borough_cap_rate</th>\n",
       "      <th>Latitude</th>\n",
       "      <th>Longitude</th>\n",
       "      <th>BIN</th>\n",
       "      <th>deed_date</th>\n",
       "      <th>watchlist</th>\n",
       "    </tr>\n",
       "    <tr>\n",
       "      <th>BBL</th>\n",
       "      <th></th>\n",
       "      <th></th>\n",
       "      <th></th>\n",
       "      <th></th>\n",
       "      <th></th>\n",
       "      <th></th>\n",
       "      <th></th>\n",
       "      <th></th>\n",
       "    </tr>\n",
       "  </thead>\n",
       "  <tbody>\n",
       "    <tr>\n",
       "      <th>1002380040</th>\n",
       "      <td>22600000</td>\n",
       "      <td>0.02638</td>\n",
       "      <td>0.03329</td>\n",
       "      <td>40.717810</td>\n",
       "      <td>-73.996908</td>\n",
       "      <td>1003114.0</td>\n",
       "      <td>2018-09-14</td>\n",
       "      <td>0.0</td>\n",
       "    </tr>\n",
       "    <tr>\n",
       "      <th>1003790037</th>\n",
       "      <td>786751</td>\n",
       "      <td>0.64596</td>\n",
       "      <td>0.03329</td>\n",
       "      <td>40.724379</td>\n",
       "      <td>-73.975536</td>\n",
       "      <td>1004556.0</td>\n",
       "      <td>2018-08-07</td>\n",
       "      <td>1.0</td>\n",
       "    </tr>\n",
       "    <tr>\n",
       "      <th>1003790037</th>\n",
       "      <td>904764</td>\n",
       "      <td>0.56171</td>\n",
       "      <td>0.03329</td>\n",
       "      <td>40.724379</td>\n",
       "      <td>-73.975536</td>\n",
       "      <td>1004556.0</td>\n",
       "      <td>2018-08-07</td>\n",
       "      <td>1.0</td>\n",
       "    </tr>\n",
       "    <tr>\n",
       "      <th>1003790037</th>\n",
       "      <td>983439</td>\n",
       "      <td>0.51677</td>\n",
       "      <td>0.03329</td>\n",
       "      <td>40.724379</td>\n",
       "      <td>-73.975536</td>\n",
       "      <td>1004556.0</td>\n",
       "      <td>2018-08-07</td>\n",
       "      <td>1.0</td>\n",
       "    </tr>\n",
       "    <tr>\n",
       "      <th>1003790037</th>\n",
       "      <td>1258802</td>\n",
       "      <td>0.40373</td>\n",
       "      <td>0.03329</td>\n",
       "      <td>40.724379</td>\n",
       "      <td>-73.975536</td>\n",
       "      <td>1004556.0</td>\n",
       "      <td>2018-08-07</td>\n",
       "      <td>1.0</td>\n",
       "    </tr>\n",
       "  </tbody>\n",
       "</table>\n",
       "</div>"
      ],
      "text/plain": [
       "               price  cap_rate  borough_cap_rate   Latitude  Longitude  \\\n",
       "BBL                                                                      \n",
       "1002380040  22600000   0.02638           0.03329  40.717810 -73.996908   \n",
       "1003790037    786751   0.64596           0.03329  40.724379 -73.975536   \n",
       "1003790037    904764   0.56171           0.03329  40.724379 -73.975536   \n",
       "1003790037    983439   0.51677           0.03329  40.724379 -73.975536   \n",
       "1003790037   1258802   0.40373           0.03329  40.724379 -73.975536   \n",
       "\n",
       "                  BIN  deed_date  watchlist  \n",
       "BBL                                          \n",
       "1002380040  1003114.0 2018-09-14        0.0  \n",
       "1003790037  1004556.0 2018-08-07        1.0  \n",
       "1003790037  1004556.0 2018-08-07        1.0  \n",
       "1003790037  1004556.0 2018-08-07        1.0  \n",
       "1003790037  1004556.0 2018-08-07        1.0  "
      ]
     },
     "execution_count": 72,
     "metadata": {},
     "output_type": "execute_result"
    }
   ],
   "source": [
    "f1.head()"
   ]
  },
  {
   "cell_type": "code",
   "execution_count": null,
   "metadata": {
    "collapsed": true
   },
   "outputs": [],
   "source": []
  }
 ],
 "metadata": {
  "kernelspec": {
   "display_name": "Python 3",
   "language": "python",
   "name": "python3"
  },
  "language_info": {
   "codemirror_mode": {
    "name": "ipython",
    "version": 3
   },
   "file_extension": ".py",
   "mimetype": "text/x-python",
   "name": "python",
   "nbconvert_exporter": "python",
   "pygments_lexer": "ipython3",
   "version": "3.6.1"
  }
 },
 "nbformat": 4,
 "nbformat_minor": 2
}
